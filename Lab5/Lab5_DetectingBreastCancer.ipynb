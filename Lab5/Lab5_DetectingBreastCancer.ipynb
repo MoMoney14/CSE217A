{
 "cells": [
  {
   "cell_type": "markdown",
   "metadata": {},
   "source": [
    "# Lab 5: Detecting Breast Cancer — Understanding Logistic Regression 🔬\n",
    "\n",
    "\n",
    "\n",
    "## Learning Objectives\n",
    "* Understanding Logistic Regression and Probabilistic Classification\n",
    "<!-- * Applying Linear Classification to Breast Cancer Prediction -->\n",
    "<!-- * Model Evaluation and Error Analysis for Classification -->\n",
    "\n",
    "## Outline\n",
    "1. [Implementing Logistic Regression](#1.-Implementing-Logistic-Regression)\n",
    "    1. [Preparing the Toy Dataset](#Preparing-the-Toy-Dataset)\n",
    "    2. [Consolidating Model Parameters](#Consolidating-Model-Parameters)\n",
    "    3. [Computing Class Probabilities](#Computing-Class-Probabilities)\n",
    "    4. [Fitting the Model](#Fitting-the-Model)\n",
    "    5. [Making Predictions](#Making-Predictions)\n",
    "    6. [Visualizing the Result](#Visualizing-the-Result)\n",
    "    7. [Evaluating the Model](#Evaluating-the-Model)"
   ]
  },
  {
   "cell_type": "markdown",
   "metadata": {},
   "source": [
    "## This Week\n",
    "\n",
    "Doctors at the Wash U Medical School need your help in finding a fast, reliable method of detecting the malignancy of breast cancer tumors for their patients. Thankfully, Dr. William H. Wolberg from the University of Wisconsin has provided a dataset of hundreds of `benign` and `malignant` cases at their hospital.\n",
    "\n",
    "<img alt=\"fine needle aspirate\" src=\"utility/pics/fna.jpg\" />\n",
    "\n",
    "Over the course of this week (lab and homework) we will be learning how to build an accurate classification model to perform this task. "
   ]
  },
  {
   "cell_type": "markdown",
   "metadata": {},
   "source": [
    "## Today's Lab\n",
    "\n",
    "Today, we will begin by revising and implementing the logistic regression classifier using a toy data set. For evaluation we will introduce a new metric that are specific to classification."
   ]
  },
  {
   "cell_type": "markdown",
   "metadata": {},
   "source": [
    "## 1. Implementing Logistic Regression\n",
    "\n",
    "Let's begin by deriving the componets of the logistic regression implementation step-by-step. Following best practice in software development, we will use a **small 2D toy dataset** for _development and debugging_. "
   ]
  },
  {
   "cell_type": "markdown",
   "metadata": {},
   "source": [
    "### Preparing the Toy Dataset"
   ]
  },
  {
   "cell_type": "code",
   "execution_count": 2,
   "metadata": {},
   "outputs": [],
   "source": [
    "import numpy as np\n",
    "from utility.util import load_toy\n",
    "\n",
    "X, y = load_toy()"
   ]
  },
  {
   "cell_type": "markdown",
   "metadata": {},
   "source": [
    "**Try this!** In the following cell, evaluate both `X` and `y` to get a sense for what the data looks like."
   ]
  },
  {
   "cell_type": "code",
   "execution_count": 6,
   "metadata": {},
   "outputs": [
    {
     "name": "stdout",
     "output_type": "stream",
     "text": [
      "(117, 2)\n",
      "(117,)\n",
      "[ 1  1  1  1  1  1  1  1  1  1  1  1  1 -1 -1  1  1  1 -1 -1  1  1  1  1\n",
      "  1  1 -1  1  1  1  1  1 -1  1  1  1  1 -1  1  1  1 -1 -1 -1 -1  1  1 -1\n",
      " -1 -1 -1 -1 -1 -1 -1 -1 -1  1  1 -1 -1 -1  1 -1 -1 -1 -1 -1 -1 -1 -1 -1\n",
      " -1 -1 -1 -1 -1 -1 -1 -1 -1 -1 -1 -1 -1 -1 -1 -1 -1 -1 -1 -1 -1 -1 -1 -1\n",
      " -1 -1 -1 -1 -1 -1 -1 -1 -1 -1 -1 -1 -1 -1 -1 -1 -1 -1 -1 -1 -1]\n"
     ]
    }
   ],
   "source": [
    "# your code here\n",
    "print(X.shape)\n",
    "print(y.shape)"
   ]
  },
  {
   "cell_type": "markdown",
   "metadata": {},
   "source": [
    "**Write-up!** How many observations are there? How many features are there? What are the values in `y`? What real-world problems could this data set plausibly stand in for? Discuss with your neighbors and note your answers below."
   ]
  },
  {
   "cell_type": "raw",
   "metadata": {},
   "source": [
    "# your response here\n",
    "There are 117 observations and 2 features. The values in y are sentiment analyses. "
   ]
  },
  {
   "cell_type": "markdown",
   "metadata": {},
   "source": [
    "Let's try to visualize the data that we are trying to model. First, run the following cell to get prettier plots."
   ]
  },
  {
   "cell_type": "code",
   "execution_count": 7,
   "metadata": {},
   "outputs": [
    {
     "name": "stdout",
     "output_type": "stream",
     "text": [
      "Plots configured! 📊\n"
     ]
    }
   ],
   "source": [
    "from utility.util import configure_plots\n",
    "\n",
    "configure_plots()"
   ]
  },
  {
   "cell_type": "markdown",
   "metadata": {},
   "source": [
    "**Try this!** Create a scatter plot that shows `X` plotting $x_1$ vs. $x_2$. Then, scatter the points in two different colors, corresponding to positive and negative $y$ and/or with different marker shapes. Include appropriate axes labels, a legend, and a title. We created a similar plot in `Lab1`. Check your plot with your neighbors and a TA (for a quick sanity check). \n",
    "> Hint: You can make use of the `label` keyword argument of any `Matplotlib` plotting function with `plt.legend()` to automatically take care of your legend labels."
   ]
  },
  {
   "cell_type": "code",
   "execution_count": 32,
   "metadata": {},
   "outputs": [
    {
     "data": {
      "text/plain": [
       "<matplotlib.legend.Legend at 0x12353cd50>"
      ]
     },
     "execution_count": 32,
     "metadata": {},
     "output_type": "execute_result"
    },
    {
     "data": {
      "image/png": "[encoded data removed]",
      "text/plain": [
       "<Figure size 1152x648 with 1 Axes>"
      ]
     },
     "metadata": {},
     "output_type": "display_data"
    }
   ],
   "source": [
    "import matplotlib.pyplot as plt\n",
    "\n",
    "# your code here\n",
    "PosX1 = X[y>0, 0]\n",
    "PosX2 = X[y>0, 1]\n",
    "NegX1 = X[y<0, 0]\n",
    "NegX2 = X[y<0, 1]\n",
    "plt.scatter(PosX1, PosX2)\n",
    "plt.scatter(NegX1, NegX2)\n",
    "plt.xlabel(\"X\")\n",
    "plt.ylabel(\"Y\")\n",
    "plt.title(\"Cancer\")\n",
    "plt.legend((ax1, ax2), ('Malignant', 'Benign'))"
   ]
  },
  {
   "cell_type": "markdown",
   "metadata": {},
   "source": [
    "### Consolidating Model Parameters\n",
    "\n",
    "Before we start we'll apply the trick of consolidating the mdoel parameters $b$ and $w$ as was described in lecture. In our discussions so far we have represented models with the general formula: $$y = wx + b.$$ In this representation, we notate $w$ and $b$ as distinct entities with separate names. However, it is also very common to see all of a models parameters referred to as a single unit called $\\theta$, $\\beta$, or $w$, amongst other names, depending on the context.\n",
    "\n",
    "> _For the curious_: In statistics, it is common to see model parameters referred to as $\\beta_0$, $\\beta_1$, etc.; and, in ML, it is more common to see them referred to as $w_0$, $w_1$, etc.\n",
    "\n",
    "This is a valid thing to do because the bias or constant term $b$ can be treated as just another parameter of the model. Practically, however, this means that we will need to change the way we define $w$ and $X$ in order to keep the math straight (and thenotation simple).\n",
    "\n",
    "The way to do this is by prepending $b$ to our weights $w$ as $w_0$ so that,\n",
    "\n",
    "$$w = [b, w_1, w_2, \\ldots] = [w_0, w_1, w_2, \\ldots].$$\n",
    "\n",
    "Accordingly, we must also adjust $X$ in order to keep the math (via dot product) consistent. We can do this by adding a $1$ to each observation so that for each data point, $x_i$, we have $$x_i = [1, x_{i, 1}, x_{i, 2}, \\ldots, x_{i, d}].$$\n",
    "\n",
    "These adjustments result in\n",
    "\n",
    "$$\n",
    "\\begin{align}\n",
    "    y_i &= w^\\top x_i \\\\\n",
    "    &= w_0 + w_1 x_{i, 1} + w_2 x_{i, 2} + \\ldots + w_d x_{i, d} \\\\\n",
    "    &= b + w_1 x_{i, 1} + w_2 x_{i, 2} + \\ldots + w_d x_{i, d}.\n",
    "\\end{align}\n",
    "$$\n",
    "\n",
    "Going forward, expect to see more of this notation, but remember that it is the equivalent to our initial notation."
   ]
  },
  {
   "cell_type": "markdown",
   "metadata": {},
   "source": [
    "**Try this!** Complete the following function so that it returns `X_aug`, which is `X` augmented with ones. _**Hint**: take a look at the [concatenate](https://docs.scipy.org/doc/numpy/reference/generated/numpy.concatenate.html) function from NumPy._"
   ]
  },
  {
   "cell_type": "code",
   "execution_count": 37,
   "metadata": {},
   "outputs": [],
   "source": [
    "def add_intercept(X):\n",
    "    '''Returns X with ones prepended to each observation'''\n",
    "    \n",
    "    # your code here\n",
    "    ones_arr = np.ones((X.shape[0], 1))\n",
    "    X_aug = np.concatenate((ones_arr, X), axis = 1)\n",
    "    \n",
    "    assert X.shape[0] == X_aug.shape[0], \\\n",
    "        'Adding an intercept should NOT change the number of observations'\n",
    "    assert X.shape[1] + 1 == X_aug.shape[1], \\\n",
    "        'Adding an intercept should increase the number of features by exactly 1.'\n",
    "    \n",
    "    return X_aug"
   ]
  },
  {
   "cell_type": "markdown",
   "metadata": {},
   "source": [
    "Your implementation should return `X` with now three columns instead of two, where the first column is one for each data point.\n",
    "\n",
    "**Try this!** Slice and evaluate the first 5 augmented data inputs from `X_aug`. Is this what you expected to see?"
   ]
  },
  {
   "cell_type": "code",
   "execution_count": 38,
   "metadata": {},
   "outputs": [
    {
     "data": {
      "text/plain": [
       "array([[1. , 4.3, 3. ],\n",
       "       [1. , 4.4, 2.9],\n",
       "       [1. , 4.4, 3. ],\n",
       "       [1. , 4.4, 3.2],\n",
       "       [1. , 4.5, 2.3]])"
      ]
     },
     "execution_count": 38,
     "metadata": {},
     "output_type": "execute_result"
    }
   ],
   "source": [
    "X_aug = add_intercept(X)\n",
    "\n",
    "# your code here\n",
    "X_aug[:5]"
   ]
  },
  {
   "cell_type": "markdown",
   "metadata": {},
   "source": [
    "### Computing Class Probabilities\n",
    "\n",
    "As you have seen during class, the logistic regression model defines the probability that the label of a data point is `+1` given its features:\n",
    "\n",
    "$$P(y=+1 \\mid x) = \\frac{1}{1 + e^{-w^{\\top}x}}.$$\n",
    "\n",
    "And, by the laws of probability, the probability that the label of a data point is `-1` is simply the complement, or\n",
    "\n",
    "$$P(y =-1 \\mid x) = 1 - P(y=+1 \\mid x).$$\n",
    "\n",
    "Intuitively, the model takes a score $s(x) = w^{\\top}x$ that can be in the range $[-\\infty, \\infty]$ and interprets it as a probability value from $[0, 1]$ using the sigmoid function, $\\sigma(x)$. In other words\n",
    "\n",
    "$$\n",
    "\\sigma(\\text{score}) = \\frac{1}{1 + e^{-\\text{score}}},\n",
    "$$\n",
    "\n",
    "where $\\text{score} = s(x)$."
   ]
  },
  {
   "cell_type": "markdown",
   "metadata": {},
   "source": [
    "**Try this!** Complete the `sigmoid` function so that it computes $\\sigma(\\text{score})$ using NumPy operations. Note that `score` can be either a scalar or a NumPy array."
   ]
  },
  {
   "cell_type": "code",
   "execution_count": 46,
   "metadata": {},
   "outputs": [],
   "source": [
    "import math\n",
    "def sigmoid(score):\n",
    "    '''Computes the sigmoid value of score'''\n",
    "    \n",
    "    # your code here\n",
    "    result = 1/(1 + math.e**(-1 * score))\n",
    "    \n",
    "    return result\n",
    "\n",
    "assert np.isclose(sigmoid(np.array([0])), 0.5), \\\n",
    "    'Expected that sigmoid works with arrays and that sigmoid(0) == 0.5'"
   ]
  },
  {
   "cell_type": "markdown",
   "metadata": {},
   "source": [
    "Let's check your implementation by plotting it. If you did everything correctly, \n",
    "* the y-values will be 0 for very large negative inputs,\n",
    "* the y-values will be 1 for very large positive inputs,\n",
    "* the y-values will be between 0 and 1 otherwise, and \n",
    "* the function will be (point) symmetric with respect to the center point $(0,0.5)$."
   ]
  },
  {
   "cell_type": "code",
   "execution_count": 47,
   "metadata": {},
   "outputs": [
    {
     "data": {
      "image/png": "[encoded data removed]",
      "text/plain": [
       "<Figure size 1152x648 with 1 Axes>"
      ]
     },
     "metadata": {},
     "output_type": "display_data"
    }
   ],
   "source": [
    "xs = np.linspace(-8, 8, 101)\n",
    "\n",
    "plt.plot(xs, sigmoid(xs))\n",
    "plt.title('Sigmoid Function')\n",
    "plt.xlabel('score')\n",
    "plt.ylabel('sigmoid(score)')\n",
    "plt.xticks([-5, 0, 5])\n",
    "plt.yticks([0, 0.5, 1])\n",
    "plt.xlim(xs.min(), xs.max())\n",
    "plt.grid()"
   ]
  },
  {
   "cell_type": "markdown",
   "metadata": {},
   "source": [
    "### Fitting the Model\n",
    "\n",
    "Training the logistic regression model means learning the weights, $w$, by maximizing the [**likelihood**](https://en.wikipedia.org/wiki/Likelihood_function) of the training data. Wikipedia says that \"Likelihood describes the plausibility, given specific observed data, of a parameter value of the statistical model which is assumed to describe that data.\" In other words, a likelihood is a measure of how likely a model parameterized by $w$ could have produced the training data $(X_{TR}, y_{TR})$."
   ]
  },
  {
   "cell_type": "markdown",
   "metadata": {},
   "source": [
    "The likelihood of _one particular data point_ $(x', y')$ is given as $L_{x',y'}(w) = P(y=y' \\mid x', w)$ such that\n",
    "\n",
    "$$\n",
    "P(y' \\mid x', w) = \\left \\{\n",
    "    \\begin{array}{lr}\n",
    "    \\dfrac{1}{1 + e^{-w^{\\top}x'}} & \\text{ for } y' = +1\\\\\n",
    "    1-\\dfrac{1}{1 + e^{-w^{\\top}x'}} &\\text{ for }  y' = -1\n",
    "    \\end{array}\n",
    "    \\right .\n",
    "$$\n",
    "\n",
    "By the laws of what is called a [_joint probability distribution_](https://en.wikipedia.org/wiki/Joint_probability_distribution) (of independent random variables), the likelihood for the entire training dataset is given as the product of the data-point likelihoods: \n",
    "\n",
    "$$L(w) = L_{X, y}(w) = \\prod_{i=1}^n L_{x_i,y_i}(w) = \\prod_{i=1}^n P(y_i \\mid x_i, w).$$\n",
    "\n",
    "Rephrased, this is saying that the likelihood a particular model specified by $w$ produced the data is the likelihood that it produced $(x_1, y_1)$ **and** $(x_2, y_2)$ **and** every other point in the data set."
   ]
  },
  {
   "cell_type": "markdown",
   "metadata": {},
   "source": [
    "Now, what we want is to find the model parameters that fit our training dataset the _best_. This means we need to look for the model parameters that maximize this likelihood! This is another **optimization problem**, similar to the one we solved for linear regression (do you remember what we did to solve it?). However, unlike that of linear regression, this one has no [closed-form](https://en.wikipedia.org/wiki/Closed-form_expression) solution — we have to use numerical optimization to solve it.\n",
    "\n",
    "The algorithm to solve this is an iterative hill climbing technique also known as [_gradient ascent_](https://en.wikipedia.org/wiki/Gradient_descent) (or _descent_ if you have a minimization problem). \n",
    "\n",
    "> **Intuition**:  The algorithm starts with a random set of parameters and then iteratively updates the parameters following the direction of the gradient until the gradient is 0.\n",
    ">\n",
    "> **Challenge**: Check out the implementation we provided for you in `utility/util.py` (After doing the math (which requires _some_ calculus, everything turns out surprisingly simple — you only need a few lines of code.) "
   ]
  },
  {
   "cell_type": "markdown",
   "metadata": {},
   "source": [
    "Let's train a logistic regression model with our Iris data. As we mentioned previously, the optimization process for finding $w$ is a bit out of scope for our class, so instead of implementing it together, we have provided our own implementation, `fit`, for you to use.\n",
    "\n",
    "**Try this!** Create a train/test split of `X_aug` and `y` (using the 80:20 ratio and a `random_state` of 4) and then use `fit` to train the model. Store the output of `fit` in the variable `w`."
   ]
  },
  {
   "cell_type": "code",
   "execution_count": 54,
   "metadata": {},
   "outputs": [],
   "source": [
    "from sklearn.model_selection import train_test_split\n",
    "from utility.util import optimize_logistic as fit\n",
    "\n",
    "# your code here\n",
    "X_train, X_test, y_train, y_test = train_test_split(X_aug, y, test_size = 0.2, random_state = 4)\n",
    "w = fit(X_train, y_train)"
   ]
  },
  {
   "cell_type": "markdown",
   "metadata": {},
   "source": [
    "### Making Predictions\n",
    "\n",
    "Given weights $w$ and points $X$ we can make predictions by computing $P(y=+1 \\mid x)$. With this probability and a threshold, we can produce a predicted label by evaluating\n",
    "\n",
    "$$P(y=+1 \\mid x) > \\text{threshold}.$$"
   ]
  },
  {
   "cell_type": "markdown",
   "metadata": {},
   "source": [
    "**Try this!** Complete the `predict_probability` function below so that it computes $P(y=+1 \\mid x)$."
   ]
  },
  {
   "cell_type": "code",
   "execution_count": 57,
   "metadata": {},
   "outputs": [],
   "source": [
    "from utility.util import sigmoid\n",
    "\n",
    "def predict_probability(X, w):\n",
    "    '''\n",
    "    Computes the predicted probability of points in X given model parameters w\n",
    "    '''\n",
    "    # your code here\n",
    "    p = sigmoid(- 1 * w * X)\n",
    "    \n",
    "    assert np.all(0 <= p) and np.all(p <= 1), 'Probability must be between 0 and 1'\n",
    "    \n",
    "    return p"
   ]
  },
  {
   "cell_type": "markdown",
   "metadata": {},
   "source": [
    "**Try this!** Complete the `predict` function below so that it computes the predicted `labels` of points in `X` given parameters `w`. The threshold is provided as an argument to the function. Make sure that your labels are either `+1` or `-1`. "
   ]
  },
  {
   "cell_type": "code",
   "execution_count": 58,
   "metadata": {},
   "outputs": [],
   "source": [
    "def predict(X, w, threshold=0.5):\n",
    "    '''\n",
    "    Given the inputs X and model paramters w, computes the probability\n",
    "    of a +1 and then converts that probability of being +1 into a hard\n",
    "    label using the threshold (default = 0.5)\n",
    "    '''\n",
    "    assert np.all(X[:, 0] == 1), 'X needs to be augmented with a column of ones!'\n",
    "    \n",
    "    N = X.shape[0]\n",
    "    \n",
    "    # your code here\n",
    "    \n",
    "    \n",
    "    assert isinstance(labels, np.ndarray), 'Labels should be returned as a NumPy array'\n",
    "    assert labels.shape[0] == N, 'There should be the same number of labels as their are points in X'\n",
    "    assert np.all(np.isin(np.unique(labels), np.array([-1, 1]))), 'Labels should be either +1 or -1'\n",
    "    \n",
    "    return labels"
   ]
  },
  {
   "cell_type": "markdown",
   "metadata": {},
   "source": [
    "To test your implementation use the following parameters, provided by an all-knowing _oracle_. Make sure you understand what each of them corresponds to. The second and fifth predictions should be positive."
   ]
  },
  {
   "cell_type": "code",
   "execution_count": null,
   "metadata": {},
   "outputs": [],
   "source": [
    "sample_w = np.array([-0.09,  0.58, -0.83])\n",
    "predict(X_aug[:5,:], sample_w)"
   ]
  },
  {
   "cell_type": "code",
   "execution_count": null,
   "metadata": {},
   "outputs": [],
   "source": [
    "predict(X_aug[:5, :], np.array([-1,  0.58, -.5]))"
   ]
  },
  {
   "cell_type": "markdown",
   "metadata": {},
   "source": [
    "Before we move on, let's take some time to consider how we might decide what decision threshold to use.\n",
    "\n",
    "**Write-up!** Why does it make sense to use 0.5? Can you think of any scenarios where you might want to use a different threshold?"
   ]
  },
  {
   "cell_type": "raw",
   "metadata": {},
   "source": [
    "# your response here\n"
   ]
  },
  {
   "cell_type": "markdown",
   "metadata": {},
   "source": [
    "### Visualizing the Result\n",
    "We can now visualize the decision boundary and the prediction results. In the cell below, we have provided the code for scattering the training set as well as plotting the decision boundary. Fill in the scatter plots for the testing set in addition to adding plot description components.\n",
    "\n",
    "**Try this!** Create a scatter plot that shows `+1` and `-1` examples in different colors and with different marker shapes for the testing sets. We have provided `y_pred` which contains the predicted labels for the points in `X_test`. Include appropriate axes labels, a legend, and a title. Check your plot with your neighbors and a TA (for a quick sanity check). _**Hint**: you will make 4 calls to `plt.scatter`_."
   ]
  },
  {
   "cell_type": "code",
   "execution_count": null,
   "metadata": {},
   "outputs": [],
   "source": [
    "y_pred = predict(X_test, w)\n",
    "\n",
    "# training data scatters\n",
    "plt.scatter(X_train[y_train > 0, 1], X_train[y_train > 0, 2], marker='^', color='lightgray', label='train $+1$')\n",
    "plt.scatter(X_train[y_train < 0, 1], X_train[y_train < 0, 2], marker='s', color='lightgray', label='train $-1$')\n",
    "\n",
    "# your code here\n",
    "\n",
    "\n",
    "\n",
    "# Plot the decision boundary (pretty complicated plot - feel free to ignore)\n",
    "A, B = np.meshgrid(np.linspace(X_aug[:, 1].min(), X_aug[:, 1].max()),\n",
    "                   np.linspace(X_aug[:, 2].min(), X_aug[:, 2].max()))\n",
    "xs = add_intercept(np.c_[A.ravel(), B.ravel()])\n",
    "ps = predict_probability(xs, w).reshape(A.shape)\n",
    "plt.contour(A, B, ps, [0.5], linewidths=1, colors='black');"
   ]
  },
  {
   "cell_type": "markdown",
   "metadata": {},
   "source": [
    "### Evaluating the Model\n",
    "\n",
    "Luckily, the most simple measure of classification model performance is incredibly intuitive. We simply count the number of mistakes we made.\n",
    "\n",
    "**Try this!** Complete the `accuracy` function below so that it computes the accuracy of the `predictions` relative to the `labels`."
   ]
  },
  {
   "cell_type": "code",
   "execution_count": null,
   "metadata": {},
   "outputs": [],
   "source": [
    "def accuracy(predictions, labels):\n",
    "    '''Computes the accuracy of the predictions'''\n",
    "    \n",
    "    N, = labels.shape\n",
    "    \n",
    "    # your code here\n",
    "\n",
    "    \n",
    "    assert 0 <= result <= 1, 'the result should be between 0 and 1'\n",
    "    \n",
    "    return result"
   ]
  },
  {
   "cell_type": "markdown",
   "metadata": {},
   "source": [
    "Now, let's check the performance of our model on our test set."
   ]
  },
  {
   "cell_type": "code",
   "execution_count": null,
   "metadata": {},
   "outputs": [],
   "source": [
    "f'Accuracy: {accuracy(y_pred, y_test):0.2%}'"
   ]
  },
  {
   "cell_type": "markdown",
   "metadata": {},
   "source": [
    "Nice!"
   ]
  }
 ],
 "metadata": {
  "kernelspec": {
   "display_name": "Python 3",
   "language": "python",
   "name": "python3"
  },
  "language_info": {
   "codemirror_mode": {
    "name": "ipython",
    "version": 3
   },
   "file_extension": ".py",
   "mimetype": "text/x-python",
   "name": "python",
   "nbconvert_exporter": "python",
   "pygments_lexer": "ipython3",
   "version": "3.7.4"
  }
 },
 "nbformat": 4,
 "nbformat_minor": 4
}
