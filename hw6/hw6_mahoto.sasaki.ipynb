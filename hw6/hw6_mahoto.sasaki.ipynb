{
 "cells": [
  {
   "cell_type": "markdown",
   "metadata": {},
   "source": [
    "# Homework 6: Exploring Study Reflection Responses 🗞"
   ]
  },
  {
   "cell_type": "markdown",
   "metadata": {},
   "source": [
    "Name: Mahoto Sasaki\n",
    "\n",
    "Student ID: 467695\n",
    "\n",
    "Collaborators:\n"
   ]
  },
  {
   "cell_type": "markdown",
   "metadata": {},
   "source": [
    "## Instructions\n",
    "\n",
    "In this homework, we will be reviewing the exploratory data analysis (EDA) process. It might be helpful to review **Lab 2 (Analyzing the MoMA Data)** first. Most of the things we ask you to do in this homework are explained in the lab. In general, you should feel free to import any package that we have previously used in class. Ensure that all plots have the necessary components that a plot should have (e.g. axes labels, a title, a legend).\n",
    "\n",
    "Additionally, note that this homework will have a slightly different structure than in the past. One of the reasons why Jupyter Notebooks are so popular in the field is because you can really treat them like notebooks to explain your findings as you discover them. In this assignment, we provide some **Problem** stubs following the EDA process and you will need to fill in the analysis and structure as you go.\n",
    "\n",
    "Furthermore, in addition to recording your collaborators on this homework, please also remember to cite/indicate all external sources used when finishing this assignment. This includes peers, TAs, and links to online sources. Note that these citations will not free you from your obligation to submit your _own_ code and write-ups, however, they will be taken into account during the grading and regrading process.\n",
    "\n",
    "### Submission instructions\n",
    "* Submit this python notebook including your answers in the code cells as homework submission.\n",
    "* **Feel free to add as many cells as you need to** — just make sure you don't change what we gave you. \n",
    "* **Does it spark joy?** Note that you will be partially graded on the presentation (_cleanliness, clarity, comments_) of your notebook so make sure you [Marie Kondo](https://lifehacker.com/marie-kondo-is-not-a-verb-1833373654) your notebook before submitting it."
   ]
  },
  {
   "cell_type": "markdown",
   "metadata": {},
   "source": [
    "## 1. Introduction\n",
    "\n",
    "For our EDA this week, we'll take a look at _anonymized_ exam study reflection responses. You will find a blank copy of the reflection survey in `utility/data` along with a CSV containing the data and a README.txt file that explains what each value represents. Our goal will be to use this dataset to gain some insight about how students study and _perhaps_ find some patterns in this data."
   ]
  },
  {
   "cell_type": "markdown",
   "metadata": {},
   "source": [
    "In general, we will be following the EDA process:\n",
    "1. Get the data and gain **basic understanding**\n",
    "2. **Wrangle** the data\n",
    "3. **Profile** the data\n",
    "4. Develop questions to investigate (form a **hypotheses**)\n",
    "5. Use the data to **investigate** hypothesis\n",
    "6. **Summarize** results and answer questions "
   ]
  },
  {
   "cell_type": "markdown",
   "metadata": {},
   "source": [
    "## 2. Getting Familiar with the Data\n",
    "\n",
    "In this section, we will get a feel for our data and tidy it up so that we can analyize it later."
   ]
  },
  {
   "cell_type": "markdown",
   "metadata": {},
   "source": [
    "### Problem 1\n",
    "\n",
    "Let's take a look at the files in `utility/data` and think about what we can and will need to do with it.\n",
    "\n",
    "**Write-up!** Describe the data in `MidtermStudyReflection.csv`, answering questions including, but not limited to, these: How many examples and features does the dataset have? What kinds of features are in the dataset? What values can these features take?\n",
    "> `Hint` Consider the steps of EDA; what would you like to know about this dataset. "
   ]
  },
  {
   "cell_type": "raw",
   "metadata": {},
   "source": [
    "# your response here\n",
    "The dataset has 20 features and there are 89 examples or observations. The features in the dataset pertain to the midterm score, what kinds of preperation were done to prepare for the test, and test concepts that were difficult to grasp.\n",
    "\n",
    "The feature midterm score is numerical and continuous. The other features are mostly numerical and discrete. The feature for the hardest concept to grasp is categorical and a String would be used for its data type. The feature for why the concept was hard to grasp could be categorical and a String would be used to store the values.\n",
    "\n",
    "If I apply the EDA method, the hypothesis or questions I would like to investigate about this dataset would be which study strategy was the most effective by seeing which feature(s) had the highest correlation to studying. I would also like to know the summary statistics of the test scores and their distribution."
   ]
  },
  {
   "cell_type": "markdown",
   "metadata": {},
   "source": [
    "### Problem 2\n",
    "\n",
    "Let's do some data wrangling. Considering your description of the dataset from [Problem 1](#Problem-1), how should we clean this data?\n",
    "\n",
    "In the cells below, explain and perform the steps that you need to prepare this data for further analysis. Make sure that your analysis and work is presented well and effectively communicates your work. \n",
    "> `Hint` While our labs are not perfect, you can use them as an example of how you might do this. \n",
    "Also, you might want to come back to this step later on, since you might encounter problems with the data once you actually analyze it. Remember, you may add as many cells (for code and text) as you need below. Here — we gave you one for free!"
   ]
  },
  {
   "cell_type": "code",
   "execution_count": 2,
   "metadata": {},
   "outputs": [],
   "source": [
    "# this one is free!\n",
    "\n",
    "#1. Get the data and gain basic understanding\n",
    "import pandas as pd\n",
    "data = pd.read_csv(\"./utility/data/MidtermStudyReflection.csv\")\n",
    "\n",
    "#2. Wrangle the data\n",
    "#This step is primarily cleaning and formatting data. Before we start messing with the data we want to make it cleaner by\n",
    "#only having columns that are useful for answering our question and we want our data to have feature names that are \n",
    "#concise. We also want to filter out values of a data set if they do not make sense. Ex: -1 in midterm score\n",
    "#In this case the columns containing the questions for what the Hardest Concept was and Why the Exam was Hard are dropped\n",
    "#because they are hard to assess since they are typed responses and we are only interested in features that could\n",
    "#possibly predict our midterm scores\n",
    "columnNames = ['Midterm Score', 'Reviewing Slides', 'Attending Lecture', 'Taking Lecture Notes', \n",
    "               'Reviewing Lecture Notes', 'Completing Assigned Readings', 'Attending Study Group', 'Talking With Professor/TA', \n",
    "                'Reviewing Homeworks', 'Reviewing Labs', 'Studying With One Student From Class', 'Reviewing Past Quizzes', \n",
    "                'Completing Worksheet Problems', 'Study Group With Other Students/Friends', 'Alone', 'Hours Studied', \n",
    "                'Tutor / Friend Not in this Class', 'Hardest Concept to Grasp', 'Days Studied Before Exam', 'Why Exam was Hard']\n",
    "data.columns = columnNames\n",
    "not_interested = ['Hardest Concept to Grasp', 'Why Exam was Hard']\n",
    "data = data.drop(not_interested, axis=1)\n",
    "data = data[data['Midterm Score'] >= 0]"
   ]
  },
  {
   "cell_type": "markdown",
   "metadata": {},
   "source": [
    "### Problem 3\n",
    "\n",
    "Now that we cleaned up our data, we are ready to look into it. In this problem, we want to profile our data and explore single variables.\n",
    "> `Hint` Note that the way the data is stored does not necesarily mean that each column should correspond to a seperate variable. Feel free to define your own variables based on the input data. Looking at the study reflection form might be helpful to figure out meaningful representations. Also note that there is no right or wrong representation here (since it is your job to find something interesting in the data, it is also up to you to choose  the data representation). Again, you might want to iterate over this step again later after doing some more exploration. \n",
    "\n",
    "Recall from Lab 2, this step usually involves computing summary statistics and basic plots _where applicable_. Try plotting some of the data (with appropriate plots). Then, highlight a few of the more interesting ones and discuss why you thought they were interesting — for both our sakes, **please only include the most interesting ones** in your actual submission. \n",
    "\n",
    "Once again, we have provided a _free_ cell for you to use; make as many as you need. Use text cells to describe what you are doing and what your findings are. "
   ]
  },
  {
   "cell_type": "code",
   "execution_count": 3,
   "metadata": {},
   "outputs": [
    {
     "name": "stdout",
     "output_type": "stream",
     "text": [
      "mean: 79.72988505747126\n",
      "median: 80.5\n",
      "standard deviation: 8.823134428842467\n",
      "min: 57.0\n",
      "max: 96.5\n",
      "\n"
     ]
    },
    {
     "data": {
      "image/png": "[encoded data removed]",
      "text/plain": [
       "<Figure size 432x288 with 1 Axes>"
      ]
     },
     "metadata": {
      "needs_background": "light"
     },
     "output_type": "display_data"
    },
    {
     "data": {
      "image/png": "[encoded data removed]",
      "text/plain": [
       "<Figure size 432x288 with 1 Axes>"
      ]
     },
     "metadata": {
      "needs_background": "light"
     },
     "output_type": "display_data"
    },
    {
     "data": {
      "image/png": "[encoded data removed]",
      "text/plain": [
       "<Figure size 432x288 with 1 Axes>"
      ]
     },
     "metadata": {
      "needs_background": "light"
     },
     "output_type": "display_data"
    },
    {
     "data": {
      "image/png": "[encoded data removed]",
      "text/plain": [
       "<Figure size 432x288 with 1 Axes>"
      ]
     },
     "metadata": {
      "needs_background": "light"
     },
     "output_type": "display_data"
    },
    {
     "data": {
      "image/png": "[encoded data removed]",
      "text/plain": [
       "<Figure size 432x288 with 1 Axes>"
      ]
     },
     "metadata": {
      "needs_background": "light"
     },
     "output_type": "display_data"
    }
   ],
   "source": [
    "# this one is also free!\n",
    "from matplotlib import pyplot as plt\n",
    "import seaborn as sns\n",
    "\n",
    "print(f'mean: {data[\"Midterm Score\"].mean()}')\n",
    "print(f'median: {data[\"Midterm Score\"].median()}')\n",
    "print(f'standard deviation: {data[\"Midterm Score\"].std()}')\n",
    "print(f'min: {data[\"Midterm Score\"].min()}')\n",
    "print(f'max: {data[\"Midterm Score\"].max()}')\n",
    "print()\n",
    "\n",
    "# Do not consider examples where the value = NaN\n",
    "plt.hist(data['Midterm Score'], bins=[0, 10, 20, 30, 40, 50, 60, 70, 80, 90, 100])\n",
    "plt.title(\"Distribution of Midterm Score\")\n",
    "plt.xlabel(\"Score\")\n",
    "plt.ylabel(\"number of People\")\n",
    "plt.show()\n",
    "\n",
    "\n",
    "#Reviewing Slides\n",
    "#plt.bar(data['Reviewing Slides'].value_counts().keys(),data['Reviewing Slides'].value_counts().values)\n",
    "#plt.title(\"Reviewing Slide Distribution\")\n",
    "#plt.ylabel(\"Number of People\")\n",
    "#plt.show()\n",
    "\n",
    "# #Attending Lecture\n",
    "# plt.bar(data['Attending Lecture'].value_counts().keys(),data['Attending Lecture'].value_counts().values)\n",
    "# plt.title(\"Attending Lecture Distribution\")\n",
    "# plt.ylabel(\"Number of People\")\n",
    "# plt.show()\n",
    "\n",
    "# #Lecture Notes\n",
    "# plt.bar(data['Taking Lecture Notes'].value_counts().keys(),data['Taking Lecture Notes'].value_counts().values)\n",
    "# plt.title(\"Taking Lecture Notes Distribution\")\n",
    "# plt.ylabel(\"Number of People\")\n",
    "# plt.show()\n",
    "\n",
    "# #Reviewing Lecture Notes\n",
    "# plt.bar(data['Reviewing Lecture Notes'].value_counts().keys(),data['Reviewing Lecture Notes'].value_counts().values)\n",
    "# plt.title(\"Reviewing Lecture Notes Distribution\")\n",
    "# plt.ylabel(\"Number of People\")\n",
    "# plt.show()\n",
    "\n",
    "# #Completing Assigned Readings\n",
    "# plt.bar(data['Completing Assigned Readings'].value_counts().keys(),data['Completing Assigned Readings'].value_counts().values)\n",
    "# plt.title(\"Completing Assigned Readings Distribution\")\n",
    "# plt.ylabel(\"Number of People\")\n",
    "# plt.show()\n",
    "\n",
    "# #Attending Study Group\n",
    "# plt.bar(data['Attending Study Group'].value_counts().keys(),data['Attending Study Group'].value_counts().values)\n",
    "# plt.title(\"Attending Study Group Distribution\")\n",
    "# plt.ylabel(\"Number of People\")\n",
    "# plt.show()\n",
    "\n",
    "#plt.title(\"Reviewing Slides\")\n",
    "#plt.scatter(data['Reviewing Slides'], data['Midterm Score'])\n",
    "#plt.show()\n",
    "\n",
    "#plt.title(\"Attending Lecture\")\n",
    "#plt.scatter(data['Attending Lecture'], data['Midterm Score'])\n",
    "#plt.show()\n",
    "\n",
    "# plt.title(\"Taking Lecture Notes\")\n",
    "# plt.scatter(data['Taking Lecture Notes'], data['Midterm Score'])\n",
    "# plt.show()\n",
    "\n",
    "# plt.title(\"Reviewing Lecture Notes\")\n",
    "# plt.scatter(data['Reviewing Lecture Notes'], data['Midterm Score'])\n",
    "# plt.show()\n",
    "\n",
    "#plt.title(\"Completing Assigned Readings\")\n",
    "#plt.scatter(data['Completing Assigned Readings'], data['Midterm Score'])\n",
    "#plt.show()\n",
    "\n",
    "# plt.title(\"Attending Study Group\")\n",
    "# plt.scatter(data['Attending Study Group'], data['Midterm Score'])\n",
    "# plt.show()\n",
    "\n",
    "#plt.title(\"Talking With Professor/TA\")\n",
    "#plt.scatter(data['Talking With Professor/TA'], data['Midterm Score'])\n",
    "#plt.show()\n",
    "\n",
    "#plt.title(\"Reviewing Homeworks\")\n",
    "#plt.scatter(data['Reviewing Homeworks'], data['Midterm Score'])\n",
    "#plt.show()\n",
    "\n",
    "#plt.title(\"Reviewing Labs\")\n",
    "#plt.scatter(data['Reviewing Labs'], data['Midterm Score'])\n",
    "#plt.show()\n",
    "\n",
    "#plt.title(\"Studying With One Student From Class\")\n",
    "#plt.scatter(data['Studying With One Student From Class'], data['Midterm Score'])\n",
    "#plt.show()\n",
    "\n",
    "#plt.title(\"Reviewing Past Quizzes\")\n",
    "#plt.scatter(data['Reviewing Past Quizzes'], data['Midterm Score'])\n",
    "#plt.show()\n",
    "\n",
    "#plt.title(\"Completing Worksheet Problems\")\n",
    "#plt.scatter(data['Completing Worksheet Problems'], data['Midterm Score'])\n",
    "#plt.show()\n",
    "\n",
    "#plt.title(\"Study Group With Other Students/Friends\")\n",
    "#plt.scatter(data['Study Group With Other Students/Friends'], data['Midterm Score'])\n",
    "#plt.show()\n",
    "\n",
    "#plt.title(\"Alone\")\n",
    "#plt.scatter(data['Alone'], data['Midterm Score'])\n",
    "#plt.show()\n",
    "\n",
    "plt.title(\"Hours Studied\")\n",
    "plt.scatter(data['Hours Studied'], data['Midterm Score'])\n",
    "plt.show()\n",
    "\n",
    "# plt.title(\"Tutor / Friend Not in this Class\")\n",
    "# plt.scatter(data['Tutor / Friend Not in this Class'], data['Midterm Score'])\n",
    "# plt.show()\n",
    "\n",
    "# plt.title(\"Days Studied Before Exam\")\n",
    "# plt.scatter(data['Days Studied Before Exam'], data['Midterm Score'])\n",
    "# plt.show()\n",
    "# #plt.bar(data['Attending Study Group'].value_counts().keys(),data['Attending Study Group'].value_counts().values)\n",
    "\n",
    "#https://python-graph-gallery.com/30-basic-boxplot-with-seaborn/\n",
    "sns.boxplot(x=data['Completing Worksheet Problems'] ,y=data['Midterm Score']).set_title(\"Completing Worksheet Problems\")\n",
    "plt.show()\n",
    "sns.boxplot(x=data['Reviewing Homeworks'] ,y=data['Midterm Score']).set_title(\"Reviewing Homeworks\")\n",
    "plt.show()\n",
    "sns.boxplot(x=data['Days Studied Before Exam'] ,y=data['Midterm Score']).set_title(\"Days Studied Before Exam\")\n",
    "plt.show()\n",
    "\n",
    "#               'Midterm Score', 'Reviewing Slides', 'Attending Lecture', 'Taking Lecture Notes', \n",
    "#               'Reviewing Lecture Notes', 'Completing Assigned Readings', 'Attending Study Group', 'Talking With Professor/TA', \n",
    "#                'Reviewing Homeworks', 'Reviewing Labs', 'Studying With One Student From Class', 'Reviewing Past Quizzes', \n",
    "#                'Completing Worksheet Problems', 'Study Group With Other Students/Friends', 'Alone', 'Hours Studied', \n",
    "#                'Tutor / Friend Not in this Class', 'Hardest Concept to Grasp', 'Days Studied Before Exam', 'Why Exam was Hard'"
   ]
  },
  {
   "cell_type": "markdown",
   "metadata": {},
   "source": [
    "## 3. Asking the Hard Questions\n",
    "\n",
    "By now we should know all of the ins and outs about this dataset (right?). Let's dive a little deeper into it and see if we can find anything interesting."
   ]
  },
  {
   "cell_type": "markdown",
   "metadata": {},
   "source": [
    "### Problem 4\n",
    "\n",
    "As you worked through the initial phase our this homework, did anything catch your interest? Let's formulate some questions and hypotheses that you could explore in depth.\n",
    "\n",
    "**Write-up** Formulate and describe a question and a hypothesis to answer it. What inspired your idea (provide specifics from [the last section](#2.-Getting-Familiar-with-the-Data), if any)? How can you use the data to support or reject your hypothesis?"
   ]
  },
  {
   "cell_type": "raw",
   "metadata": {},
   "source": [
    "# your response here\n",
    "As I worked through the initial phase of this homework I found that completing worksheet problems seemed to be the closest in terms of being associated with the midterm score. My hypothesis is if the individual spent a significant amount of their studying time completing worksheet problems, then their midterm score would be higher. My idea was inspired by the boxplot I created from the last section with the title of Completing Worksheet Problems. I can use the data to support my hypothesis because it seems as though people who did not bother to spend a whole lot of time completing worksheet problems (especially the 1 individuals) had lower scores relative to the other quantities."
   ]
  },
  {
   "cell_type": "markdown",
   "metadata": {},
   "source": [
    "### Problem 5\n",
    "\n",
    "Let's explore your hypothesis. Find evidence from the data that supports or refutes your hypothesis and present it — recall that as a data scientist, one of you're goals is to discover and communicate your results to your audience, _me_. The more thorough your analysis, the better!\n",
    "\n",
    "Here's yet another _free_ cell; use as many as you need."
   ]
  },
  {
   "cell_type": "code",
   "execution_count": 96,
   "metadata": {},
   "outputs": [
    {
     "name": "stdout",
     "output_type": "stream",
     "text": [
      "Midterm Avg Score\n",
      "79.72988505747126\n",
      "\n",
      "Percentage of people who scored lower than midterm average and effort of completing worksheet problems was a 1\n",
      "0.8571428571428571\n",
      "Percentage of people who scored lower than midterm average and effort of completing worksheet problems was a 2\n",
      "0.2\n",
      "Percentage of people who scored lower than midterm average and effort of completing worksheet problems was a 3\n",
      "0.3333333333333333\n",
      "Percentage of people who scored lower than midterm average and effort of completing worksheet problems was a 4\n",
      "0.5\n",
      "Percentage of people who scored lower than midterm average and effort of completing worksheet problems was a 5\n",
      "0.5\n"
     ]
    }
   ],
   "source": [
    "# woah! these things are falling from the sky or something\n",
    "print(\"Midterm Avg Score\")\n",
    "midtermAvg = data['Midterm Score'].mean()\n",
    "print(midtermAvg)\n",
    "print()\n",
    "d = data[['Completing Worksheet Problems', 'Midterm Score']]\n",
    "\n",
    "\n",
    "# print(d[d['Completing Worksheet Problems'] == 1].mean())\n",
    "# print(d[d['Completing Worksheet Problems'] == 2].mean())\n",
    "# print(d[d['Completing Worksheet Problems'] == 3].mean())\n",
    "# print(d[d['Completing Worksheet Problems'] == 4].mean())\n",
    "# print(d[d['Completing Worksheet Problems'] == 5].mean())\n",
    "\n",
    "print(\"Percentage of people who scored lower than midterm average and effort of completing worksheet problems was a 1\")\n",
    "dataSize = len(d.loc[d['Completing Worksheet Problems'] == 1])\n",
    "numerator = len(d.loc[(d['Midterm Score'] < midtermAvg) & (d['Completing Worksheet Problems'] == 1)])\n",
    "percentage = numerator/dataSize\n",
    "print(percentage)\n",
    "\n",
    "print(\"Percentage of people who scored lower than midterm average and effort of completing worksheet problems was a 2\")\n",
    "dataSize = len(d.loc[d['Completing Worksheet Problems'] == 2])\n",
    "numerator = len(d.loc[(d['Midterm Score'] < midtermAvg) & (d['Completing Worksheet Problems'] == 2)])\n",
    "percentage = numerator/dataSize\n",
    "print(percentage)\n",
    "\n",
    "print(\"Percentage of people who scored lower than midterm average and effort of completing worksheet problems was a 3\")\n",
    "dataSize = len(d.loc[d['Completing Worksheet Problems'] == 3])\n",
    "numerator = len(d.loc[(d['Midterm Score'] < midtermAvg) & (d['Completing Worksheet Problems'] == 3)])\n",
    "percentage = numerator/dataSize\n",
    "print(percentage)\n",
    "\n",
    "print(\"Percentage of people who scored lower than midterm average and effort of completing worksheet problems was a 4\")\n",
    "dataSize = len(d.loc[d['Completing Worksheet Problems'] == 4])\n",
    "numerator = len(d.loc[(d['Midterm Score'] < midtermAvg) & (d['Completing Worksheet Problems'] == 4)])\n",
    "percentage = numerator/dataSize\n",
    "print(percentage)\n",
    "\n",
    "print(\"Percentage of people who scored lower than midterm average and effort of completing worksheet problems was a 5\")\n",
    "dataSize = len(d.loc[d['Completing Worksheet Problems'] == 5])\n",
    "numerator = len(d.loc[(d['Midterm Score'] < midtermAvg) & (d['Completing Worksheet Problems'] == 5)])\n",
    "percentage = numerator/dataSize\n",
    "print(percentage)\n"
   ]
  },
  {
   "cell_type": "markdown",
   "metadata": {},
   "source": [
    "### Problem 6\n",
    "\n",
    "Did you find anything interesting in [Problem 5](#Problem-5)? If you did, tell me about it. Can you make any recommendations for us? What might we try to improve the class? Don't worry if you didn't anything — you should still tell us about what you found (negative results are results too!).\n",
    "\n",
    "It would be lovely if you could provide links to key figures in your discussion. See [this StackOverflow question](https://stackoverflow.com/questions/28080066/how-to-reference-a-ipython-notebook-cell-in-markdown) for details."
   ]
  },
  {
   "cell_type": "raw",
   "metadata": {},
   "source": [
    "# your response here\n",
    "I tested my hypothesis that completing worksheet problems seems to be the most closely associated feature to the midterm score. I was unable to reach a conclusion as there was not enough data to make a valid claim. I found that the percentage of people who felt like they spent a 1,2,3,4, or 5 in completing worksheet problems and had a lower score than the average midterm score were 85.71%, 20%, 33.33%, 50%, and 50% respectively. This shows us that the people who spent less effort in completing worksheet problems as their test preparation had the majority of its people score below the midterm average. However, there is not enough data to validate this finding so we would likely need a larger sample size in the future. "
   ]
  },
  {
   "cell_type": "markdown",
   "metadata": {},
   "source": [
    "### Problem 7\n",
    "\n",
    "One last step that we shouldn't skip is reviewing the data acquisition method. There are often times where the data you need doesn't exist and you need to go collect it. As you probably already know, making surveys is an art and we would like to here how you might change it to collect better or more information in the future. \n",
    "> `Hint` You could discuss something like this: Based on your analysis of the data set, which features were informative and which weren't? What information that was missing from this survey do you think would be helpful to have for next time?"
   ]
  },
  {
   "cell_type": "raw",
   "metadata": {},
   "source": [
    "# your response here\n",
    "Based on the analysis of the data, since I was trying to figure out what features lead to a better perfomance on the test, the features that were more informative were the ones that were related to test preparation. Features such as the Hardest Concept to Grasp and Why the exam was hard was not as useful in this context. Depending on our hypothesis it may be necessary to add more features into the survey. One thing that could've been done is to ask how many hours were spent on each of the test preparation features. If this data was obtained, it would be possible for the person analyzing the data to gauge how much time was allocated percentage-wise to the task out of the total hours studied. This would be slightly more helpful than the 1-5 scores because it is less based off of emotion and more based on quantity."
   ]
  },
  {
   "cell_type": "markdown",
   "metadata": {},
   "source": [
    "And that's it! Remember to review your work and make sure it is well presented and organized. Not everyting you coded up needs to remain in your submission. **[Does [this cell] spark joy?](https://i.kinja-img.com/gawker-media/image/upload/s--iW_3HGbT--/c_scale,dpr_2.0,f_auto,fl_progressive,q_80,w_800/oruf4oavtj5vpmvaquew.jpg)** You are always trying to communicate your findings to somebody, _maybe even yourself_."
   ]
  }
 ],
 "metadata": {
  "kernelspec": {
   "display_name": "Python 3",
   "language": "python",
   "name": "python3"
  },
  "language_info": {
   "codemirror_mode": {
    "name": "ipython",
    "version": 3
   },
   "file_extension": ".py",
   "mimetype": "text/x-python",
   "name": "python",
   "nbconvert_exporter": "python",
   "pygments_lexer": "ipython3",
   "version": "3.7.4"
  }
 },
 "nbformat": 4,
 "nbformat_minor": 4
}
